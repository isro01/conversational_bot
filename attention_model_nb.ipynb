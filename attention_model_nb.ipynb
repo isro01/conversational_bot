{
 "cells": [
  {
   "cell_type": "code",
   "execution_count": 119,
   "metadata": {},
   "outputs": [],
   "source": [
    "import numpy as np\n",
    "import os\n",
    "import numpy as np\n",
    "import matplotlib.pyplot as plt\n",
    "\n",
    "\n",
    "from keras.layers import Bidirectional, Concatenate, Permute, Dot, Input, LSTM, Multiply , Embedding\n",
    "from keras.layers import RepeatVector, Dense, Activation, Lambda\n",
    "from keras.optimizers import Adam\n",
    "from keras.utils import to_categorical\n",
    "from keras.models import load_model, Model\n",
    "import keras.backend as K\n",
    "\n",
    "# from faker import Faker\n",
    "# import random\n",
    "# from tqdm import tqdm\n",
    "# from babel.dates import format_date\n",
    "# import matplotlib.pyplot as plt\n",
    "# %matplotlib inline\n"
   ]
  },
  {
   "cell_type": "code",
   "execution_count": 2,
   "metadata": {},
   "outputs": [],
   "source": [
    "def read_glove_vecs(glove_file):\n",
    "    with open(glove_file, 'r') as f:\n",
    "        words = set()\n",
    "        word_to_vec_map = {}\n",
    "        \n",
    "        for line in f:\n",
    "            line = line.strip().split()\n",
    "            curr_word = line[0]\n",
    "            words.add(curr_word)\n",
    "            word_to_vec_map[curr_word] = np.array(line[1:], dtype=np.float64)\n",
    "            \n",
    "    return words, word_to_vec_map"
   ]
  },
  {
   "cell_type": "code",
   "execution_count": 3,
   "metadata": {},
   "outputs": [],
   "source": [
    "words, word_to_vec_map = read_glove_vecs('glove.6B.50d.txt')"
   ]
  },
  {
   "cell_type": "code",
   "execution_count": 158,
   "metadata": {},
   "outputs": [
    {
     "name": "stdout",
     "output_type": "stream",
     "text": [
      "(50,)\n"
     ]
    }
   ],
   "source": [
    "print(np.shape(word_to_vec_map[\"father\"]))"
   ]
  },
  {
   "cell_type": "code",
   "execution_count": 80,
   "metadata": {},
   "outputs": [
    {
     "name": "stdout",
     "output_type": "stream",
     "text": [
      "Yes, I'm coming.\n",
      "\n"
     ]
    }
   ],
   "source": [
    "input_sentences=[]\n",
    "\n",
    "filepath = 'inp_dat.txt'\n",
    "with open(filepath) as fp:\n",
    "    line = fp.readline()\n",
    "    cnt = 1\n",
    "    while cnt <1000 :\n",
    "        line = fp.readline()\n",
    "        if cnt >15:\n",
    "            input_sentences.append(line)\n",
    "        cnt+=1\n",
    "print(input_sentences[0])"
   ]
  },
  {
   "cell_type": "code",
   "execution_count": 88,
   "metadata": {},
   "outputs": [
    {
     "data": {
      "text/plain": [
       "'im'"
      ]
     },
     "execution_count": 88,
     "metadata": {},
     "output_type": "execute_result"
    }
   ],
   "source": [
    "def wordcleaner(word):\n",
    "    temp=\"\"\n",
    "    for char in word:\n",
    "#         print(char)\n",
    "        if char!= \",\" and char!= \"!\" and char!= \"?\" and char!= \".\" and char!= \"'\" and char!= \"-\":\n",
    "#         if char!=',':\n",
    "            temp+=char\n",
    "    return temp\n",
    "wordcleaner(\"i'm\")"
   ]
  },
  {
   "cell_type": "code",
   "execution_count": 98,
   "metadata": {},
   "outputs": [],
   "source": [
    "post_emb_list=[]\n",
    "\n",
    "for l in input_sentences:\n",
    "#     print(l)\n",
    "    temp=[]\n",
    "    for word in l.lower().split():\n",
    "#         print(word)\n",
    "        word = wordcleaner(word)\n",
    "#         if word!=\"\":\n",
    "        w = word_to_vec_map.get(word)\n",
    "        temp.append(w)\n",
    "#         print(np.shape(temp))\n",
    "    post_emb_list.append(temp)\n",
    "    "
   ]
  },
  {
   "cell_type": "code",
   "execution_count": 174,
   "metadata": {},
   "outputs": [],
   "source": [
    "max_len=20"
   ]
  },
  {
   "cell_type": "code",
   "execution_count": 199,
   "metadata": {},
   "outputs": [],
   "source": [
    "batch_size = 500\n",
    "context = np.zeros((500,max_len))\n",
    "response = np.zeros((500,max_len))\n"
   ]
  },
  {
   "cell_type": "code",
   "execution_count": 200,
   "metadata": {},
   "outputs": [],
   "source": [
    "# add = np.zeros((1,50))\n",
    "# for l in post_emb_list:\n",
    "#     while np.shape(l)!=(10,):\n",
    "#         l.append(add)\n",
    "    \n",
    "# print(np.shape(post_emb_list[3]))"
   ]
  },
  {
   "cell_type": "code",
   "execution_count": 216,
   "metadata": {},
   "outputs": [
    {
     "name": "stdout",
     "output_type": "stream",
     "text": [
      "[ 17 287 145   5 288  38 146 450   7  39  71   0   0   0   0   0   0   0\n",
      "   0   0]\n",
      "(984, 20)\n"
     ]
    }
   ],
   "source": [
    "vocab_size = 10000\n",
    "embedding_dim = 100\n",
    "max_length = 20\n",
    "trunc_type='post'\n",
    "oov_tok = \"<OOV>\"\n",
    "\n",
    "\n",
    "from tensorflow.keras.preprocessing.text import Tokenizer\n",
    "from tensorflow.keras.preprocessing.sequence import pad_sequences\n",
    "\n",
    "tokenizer = Tokenizer(num_words = vocab_size, oov_token=oov_tok)\n",
    "tokenizer.fit_on_texts(input_sentences)\n",
    "word_index = tokenizer.word_index\n",
    "sequences = tokenizer.texts_to_sequences(input_sentences)\n",
    "padded = pad_sequences(sequences,maxlen=max_length, truncating=trunc_type,padding=\"post\")\n",
    "print(padded[6])\n",
    "print(np.shape(padded))\n",
    "\n",
    "index_word = {}\n",
    "for word , index in word_index.items():\n",
    "    index_word[index] = word"
   ]
  },
  {
   "cell_type": "code",
   "execution_count": 202,
   "metadata": {},
   "outputs": [
    {
     "name": "stdout",
     "output_type": "stream",
     "text": [
      "(500, 20)\n",
      "[216. 291.   0.   0.   0.   0.   0.   0.   0.   0.   0.   0.   0.   0.\n",
      "   0.   0.   0.   0.   0.   0.]\n",
      "[  9. 285.  17. 447. 448.   0.   0.   0.   0.   0.   0.   0.   0.   0.\n",
      "   0.   0.   0.   0.   0.   0.]\n"
     ]
    }
   ],
   "source": [
    "index=0\n",
    "for idx in range(0,950,2):\n",
    "    context[index,:] = padded[idx]\n",
    "    response[index,:] = padded[idx+1]\n",
    "    index +=1\n",
    "    \n",
    "print(np.shape(context))\n",
    "print(context[6])\n",
    "print(response[0])\n",
    "response = list(response.swapaxes(0,1))\n"
   ]
  },
  {
   "cell_type": "code",
   "execution_count": 190,
   "metadata": {},
   "outputs": [
    {
     "name": "stdout",
     "output_type": "stream",
     "text": [
      "Found 400000 word vectors.\n"
     ]
    }
   ],
   "source": [
    "import os\n",
    "embeddings_index = {}\n",
    "f = open( 'glove.6B.50d.txt')\n",
    "for line in f:\n",
    "    values = line.split()\n",
    "    word = values[0]\n",
    "    coefs = np.asarray(values[1:], dtype='float32')\n",
    "    embeddings_index[word] = coefs\n",
    "f.close()\n",
    "\n",
    "print('Found %s word vectors.' % len(embeddings_index))"
   ]
  },
  {
   "cell_type": "code",
   "execution_count": 191,
   "metadata": {},
   "outputs": [],
   "source": [
    "embedding_matrix = np.zeros((len(word_index) + 1, 50))\n",
    "for word, i in word_index.items():\n",
    "    embedding_vector = embeddings_index.get(word)\n",
    "    if embedding_vector is not None:\n",
    "        # words not found in embedding index will be all-zeros.\n",
    "        embedding_matrix[i] = embedding_vector"
   ]
  },
  {
   "cell_type": "code",
   "execution_count": 114,
   "metadata": {},
   "outputs": [],
   "source": [
    "from keras.layers import Embedding\n",
    "\n",
    "embedding_layer = Embedding(len(word_index) + 1,\n",
    "                            50,\n",
    "                            weights=[embedding_matrix],\n",
    "                            input_length=20,\n",
    "                            trainable=False)"
   ]
  },
  {
   "cell_type": "code",
   "execution_count": 135,
   "metadata": {},
   "outputs": [],
   "source": [
    "Tx = 20\n",
    "repeator = RepeatVector(Tx)\n",
    "concatenator = Concatenate(axis=-1)\n",
    "densor1 = Dense(20, activation = \"tanh\")\n",
    "densor2 = Dense(1, activation = \"relu\")\n",
    "activator = Activation(softmax, name='attention_weights') # We are using a custom softmax(axis = 1) loaded in this notebook\n",
    "dotor = Dot(axes = 1)\n"
   ]
  },
  {
   "cell_type": "code",
   "execution_count": 136,
   "metadata": {},
   "outputs": [],
   "source": [
    "def one_step_attention(a, s_prev):\n",
    "    \"\"\"\n",
    "    Performs one step of attention: Outputs a context vector computed as a dot product of the attention weights\n",
    "    \"alphas\" and the hidden states \"a\" of the Bi-LSTM.\n",
    "    \n",
    "    Arguments:\n",
    "    a -- hidden state output of the Bi-LSTM, numpy-array of shape (m, Tx, 2*n_a)\n",
    "    s_prev -- previous hidden state of the (post-attention) LSTM, numpy-array of shape (m, n_s)\n",
    "    \n",
    "    Returns:\n",
    "    context -- context vector, input of the next (post-attention) LSTM cell\n",
    "    \"\"\"\n",
    "    \n",
    "    ### START CODE HERE ###\n",
    "    # Use repeator to repeat s_prev to be of shape (m, Tx, n_s) so that you can concatenate it with all hidden states \"a\" (≈ 1 line)\n",
    "    s_prev = repeator(s_prev)\n",
    "    # Use concatenator to concatenate a and s_prev on the last axis (≈ 1 line)\n",
    "    # For grading purposes, please list 'a' first and 's_prev' second, in this order.\n",
    "    concat = concatenator(inputs =([a,s_prev]))\n",
    "    # Use densor1 to propagate concat through a small fully-connected neural network to compute the \"intermediate energies\" variable e. (≈1 lines)\n",
    "    e = densor1(concat)\n",
    "    # Use densor2 to propagate e through a small fully-connected neural network to compute the \"energies\" variable energies. (≈1 lines)\n",
    "    energies = densor2(e)\n",
    "    # Use \"activator\" on \"energies\" to compute the attention weights \"alphas\" (≈ 1 line)\n",
    "    alphas = activator(energies)\n",
    "    # Use dotor together with \"alphas\" and \"a\" to compute the context vector to be given to the next (post-attention) LSTM-cell (≈ 1 line)\n",
    "    context = dotor([alphas,a])\n",
    "    ### END CODE HERE ###\n",
    "    \n",
    "    return context\n"
   ]
  },
  {
   "cell_type": "code",
   "execution_count": 137,
   "metadata": {},
   "outputs": [],
   "source": [
    "def softmax(x, axis=1):\n",
    "    \"\"\"Softmax activation function.\n",
    "    # Arguments\n",
    "        x : Tensor.\n",
    "        axis: Integer, axis along which the softmax normalization is applied.\n",
    "    # Returns\n",
    "        Tensor, output of softmax transformation.\n",
    "    # Raises\n",
    "        ValueError: In case `dim(x) == 1`.\n",
    "    \"\"\"\n",
    "    ndim = K.ndim(x)\n",
    "    if ndim == 2:\n",
    "        return K.softmax(x)\n",
    "    elif ndim > 2:\n",
    "        e = K.exp(x - K.max(x, axis=axis, keepdims=True))\n",
    "        s = K.sum(e, axis=axis, keepdims=True)\n",
    "        return e / s\n",
    "    else:\n",
    "        raise ValueError('Cannot apply softmax to a tensor that is 1D')"
   ]
  },
  {
   "cell_type": "code",
   "execution_count": 138,
   "metadata": {},
   "outputs": [],
   "source": [
    "post_activation_LSTM_cell = LSTM(128, return_state = True) # post-attention LSTM \n",
    "output_layer = Dense(20000, activation=softmax)"
   ]
  },
  {
   "cell_type": "code",
   "execution_count": 139,
   "metadata": {},
   "outputs": [],
   "source": [
    "\n",
    "def model(Tx, Ty, n_a, n_s, human_vocab_size, machine_vocab_size):\n",
    "\n",
    "    \n",
    "    # Define the inputs of your model with a shape (Tx,)\n",
    "    # Define s0 (initial hidden state) and c0 (initial cell state)\n",
    "    # for the decoder LSTM with shape (n_s,)\n",
    "    X = Input(shape=(Tx,))\n",
    "    s0 = Input(shape=(n_s,), name='s0')\n",
    "    c0 = Input(shape=(n_s,), name='c0')\n",
    "    s = s0\n",
    "    c = c0\n",
    "    \n",
    "    # Initialize empty list of outputs\n",
    "    outputs = []\n",
    "    \n",
    "    ### START CODE HERE ###\n",
    "    \n",
    "    # Step 1: Define your pre-attention Bi-LSTM. (≈ 1 line)\n",
    "    e = embedding_layer(X)\n",
    "    a = Bidirectional(LSTM(units = n_a ,return_sequences = True))(e)\n",
    "    \n",
    "    # Step 2: Iterate for Ty steps\n",
    "    for t in range(Ty):\n",
    "    \n",
    "        # Step 2.A: Perform one step of the attention mechanism to get back the context vector at step t (≈ 1 line)\n",
    "        context = one_step_attention(a, s)\n",
    "        \n",
    "        # Step 2.B: Apply the post-attention LSTM cell to the \"context\" vector.\n",
    "        # Don't forget to pass: initial_state = [hidden state, cell state] (≈ 1 line)\n",
    "        s, _, c = post_activation_LSTM_cell(inputs = context,initial_state = [s,c])\n",
    "        \n",
    "        # Step 2.C: Apply Dense layer to the hidden state output of the post-attention LSTM (≈ 1 line)\n",
    "        out = output_layer(s)\n",
    "        \n",
    "        # Step 2.D: Append \"out\" to the \"outputs\" list (≈ 1 line)\n",
    "        outputs.append(out)\n",
    "    \n",
    "    # Step 3: Create model instance taking three inputs and returning the list of outputs. (≈ 1 line)\n",
    "    model = Model(inputs = [X,s0,c0],outputs = outputs)\n",
    "    \n",
    "    ### END CODE HERE ###\n",
    "    \n",
    "    return model"
   ]
  },
  {
   "cell_type": "code",
   "execution_count": 140,
   "metadata": {},
   "outputs": [],
   "source": [
    "model = model(20, 20,128, 128, 20000, 20000)\n"
   ]
  },
  {
   "cell_type": "code",
   "execution_count": 141,
   "metadata": {},
   "outputs": [
    {
     "name": "stdout",
     "output_type": "stream",
     "text": [
      "Model: \"model_1\"\n",
      "__________________________________________________________________________________________________\n",
      "Layer (type)                    Output Shape         Param #     Connected to                     \n",
      "==================================================================================================\n",
      "input_8 (InputLayer)            (None, 20)           0                                            \n",
      "__________________________________________________________________________________________________\n",
      "embedding_1 (Embedding)         (None, 20, 50)       48700       input_8[0][0]                    \n",
      "__________________________________________________________________________________________________\n",
      "s0 (InputLayer)                 (None, 128)          0                                            \n",
      "__________________________________________________________________________________________________\n",
      "bidirectional_6 (Bidirectional) (None, 20, 256)      183296      embedding_1[3][0]                \n",
      "__________________________________________________________________________________________________\n",
      "repeat_vector_2 (RepeatVector)  (None, 20, 128)      0           s0[0][0]                         \n",
      "                                                                 lstm_7[0][0]                     \n",
      "                                                                 lstm_7[1][0]                     \n",
      "                                                                 lstm_7[2][0]                     \n",
      "                                                                 lstm_7[3][0]                     \n",
      "                                                                 lstm_7[4][0]                     \n",
      "                                                                 lstm_7[5][0]                     \n",
      "                                                                 lstm_7[6][0]                     \n",
      "                                                                 lstm_7[7][0]                     \n",
      "                                                                 lstm_7[8][0]                     \n",
      "                                                                 lstm_7[9][0]                     \n",
      "                                                                 lstm_7[10][0]                    \n",
      "                                                                 lstm_7[11][0]                    \n",
      "                                                                 lstm_7[12][0]                    \n",
      "                                                                 lstm_7[13][0]                    \n",
      "                                                                 lstm_7[14][0]                    \n",
      "                                                                 lstm_7[15][0]                    \n",
      "                                                                 lstm_7[16][0]                    \n",
      "                                                                 lstm_7[17][0]                    \n",
      "                                                                 lstm_7[18][0]                    \n",
      "__________________________________________________________________________________________________\n",
      "concatenate_2 (Concatenate)     (None, 20, 384)      0           bidirectional_6[0][0]            \n",
      "                                                                 repeat_vector_2[0][0]            \n",
      "                                                                 bidirectional_6[0][0]            \n",
      "                                                                 repeat_vector_2[1][0]            \n",
      "                                                                 bidirectional_6[0][0]            \n",
      "                                                                 repeat_vector_2[2][0]            \n",
      "                                                                 bidirectional_6[0][0]            \n",
      "                                                                 repeat_vector_2[3][0]            \n",
      "                                                                 bidirectional_6[0][0]            \n",
      "                                                                 repeat_vector_2[4][0]            \n",
      "                                                                 bidirectional_6[0][0]            \n",
      "                                                                 repeat_vector_2[5][0]            \n",
      "                                                                 bidirectional_6[0][0]            \n",
      "                                                                 repeat_vector_2[6][0]            \n",
      "                                                                 bidirectional_6[0][0]            \n",
      "                                                                 repeat_vector_2[7][0]            \n",
      "                                                                 bidirectional_6[0][0]            \n",
      "                                                                 repeat_vector_2[8][0]            \n",
      "                                                                 bidirectional_6[0][0]            \n",
      "                                                                 repeat_vector_2[9][0]            \n",
      "                                                                 bidirectional_6[0][0]            \n",
      "                                                                 repeat_vector_2[10][0]           \n",
      "                                                                 bidirectional_6[0][0]            \n",
      "                                                                 repeat_vector_2[11][0]           \n",
      "                                                                 bidirectional_6[0][0]            \n",
      "                                                                 repeat_vector_2[12][0]           \n",
      "                                                                 bidirectional_6[0][0]            \n",
      "                                                                 repeat_vector_2[13][0]           \n",
      "                                                                 bidirectional_6[0][0]            \n",
      "                                                                 repeat_vector_2[14][0]           \n",
      "                                                                 bidirectional_6[0][0]            \n",
      "                                                                 repeat_vector_2[15][0]           \n",
      "                                                                 bidirectional_6[0][0]            \n",
      "                                                                 repeat_vector_2[16][0]           \n",
      "                                                                 bidirectional_6[0][0]            \n",
      "                                                                 repeat_vector_2[17][0]           \n",
      "                                                                 bidirectional_6[0][0]            \n",
      "                                                                 repeat_vector_2[18][0]           \n",
      "                                                                 bidirectional_6[0][0]            \n",
      "                                                                 repeat_vector_2[19][0]           \n",
      "__________________________________________________________________________________________________\n",
      "dense_4 (Dense)                 (None, 20, 20)       7700        concatenate_2[0][0]              \n",
      "                                                                 concatenate_2[1][0]              \n",
      "                                                                 concatenate_2[2][0]              \n",
      "                                                                 concatenate_2[3][0]              \n",
      "                                                                 concatenate_2[4][0]              \n",
      "                                                                 concatenate_2[5][0]              \n",
      "                                                                 concatenate_2[6][0]              \n",
      "                                                                 concatenate_2[7][0]              \n",
      "                                                                 concatenate_2[8][0]              \n",
      "                                                                 concatenate_2[9][0]              \n",
      "                                                                 concatenate_2[10][0]             \n",
      "                                                                 concatenate_2[11][0]             \n",
      "                                                                 concatenate_2[12][0]             \n",
      "                                                                 concatenate_2[13][0]             \n",
      "                                                                 concatenate_2[14][0]             \n",
      "                                                                 concatenate_2[15][0]             \n",
      "                                                                 concatenate_2[16][0]             \n",
      "                                                                 concatenate_2[17][0]             \n",
      "                                                                 concatenate_2[18][0]             \n",
      "                                                                 concatenate_2[19][0]             \n",
      "__________________________________________________________________________________________________\n",
      "dense_5 (Dense)                 (None, 20, 1)        21          dense_4[0][0]                    \n",
      "                                                                 dense_4[1][0]                    \n",
      "                                                                 dense_4[2][0]                    \n",
      "                                                                 dense_4[3][0]                    \n",
      "                                                                 dense_4[4][0]                    \n",
      "                                                                 dense_4[5][0]                    \n",
      "                                                                 dense_4[6][0]                    \n",
      "                                                                 dense_4[7][0]                    \n",
      "                                                                 dense_4[8][0]                    \n",
      "                                                                 dense_4[9][0]                    \n",
      "                                                                 dense_4[10][0]                   \n",
      "                                                                 dense_4[11][0]                   \n",
      "                                                                 dense_4[12][0]                   \n",
      "                                                                 dense_4[13][0]                   \n",
      "                                                                 dense_4[14][0]                   \n",
      "                                                                 dense_4[15][0]                   \n",
      "                                                                 dense_4[16][0]                   \n",
      "                                                                 dense_4[17][0]                   \n",
      "                                                                 dense_4[18][0]                   \n",
      "                                                                 dense_4[19][0]                   \n",
      "__________________________________________________________________________________________________\n",
      "attention_weights (Activation)  (None, 20, 1)        0           dense_5[0][0]                    \n",
      "                                                                 dense_5[1][0]                    \n",
      "                                                                 dense_5[2][0]                    \n",
      "                                                                 dense_5[3][0]                    \n",
      "                                                                 dense_5[4][0]                    \n",
      "                                                                 dense_5[5][0]                    \n",
      "                                                                 dense_5[6][0]                    \n",
      "                                                                 dense_5[7][0]                    \n",
      "                                                                 dense_5[8][0]                    \n",
      "                                                                 dense_5[9][0]                    \n",
      "                                                                 dense_5[10][0]                   \n",
      "                                                                 dense_5[11][0]                   \n",
      "                                                                 dense_5[12][0]                   \n",
      "                                                                 dense_5[13][0]                   \n",
      "                                                                 dense_5[14][0]                   \n",
      "                                                                 dense_5[15][0]                   \n",
      "                                                                 dense_5[16][0]                   \n",
      "                                                                 dense_5[17][0]                   \n",
      "                                                                 dense_5[18][0]                   \n",
      "                                                                 dense_5[19][0]                   \n",
      "__________________________________________________________________________________________________\n",
      "dot_2 (Dot)                     (None, 1, 256)       0           attention_weights[0][0]          \n",
      "                                                                 bidirectional_6[0][0]            \n",
      "                                                                 attention_weights[1][0]          \n",
      "                                                                 bidirectional_6[0][0]            \n",
      "                                                                 attention_weights[2][0]          \n",
      "                                                                 bidirectional_6[0][0]            \n",
      "                                                                 attention_weights[3][0]          \n",
      "                                                                 bidirectional_6[0][0]            \n",
      "                                                                 attention_weights[4][0]          \n",
      "                                                                 bidirectional_6[0][0]            \n",
      "                                                                 attention_weights[5][0]          \n",
      "                                                                 bidirectional_6[0][0]            \n",
      "                                                                 attention_weights[6][0]          \n",
      "                                                                 bidirectional_6[0][0]            \n",
      "                                                                 attention_weights[7][0]          \n",
      "                                                                 bidirectional_6[0][0]            \n",
      "                                                                 attention_weights[8][0]          \n",
      "                                                                 bidirectional_6[0][0]            \n",
      "                                                                 attention_weights[9][0]          \n",
      "                                                                 bidirectional_6[0][0]            \n",
      "                                                                 attention_weights[10][0]         \n",
      "                                                                 bidirectional_6[0][0]            \n",
      "                                                                 attention_weights[11][0]         \n",
      "                                                                 bidirectional_6[0][0]            \n",
      "                                                                 attention_weights[12][0]         \n",
      "                                                                 bidirectional_6[0][0]            \n",
      "                                                                 attention_weights[13][0]         \n",
      "                                                                 bidirectional_6[0][0]            \n",
      "                                                                 attention_weights[14][0]         \n",
      "                                                                 bidirectional_6[0][0]            \n",
      "                                                                 attention_weights[15][0]         \n",
      "                                                                 bidirectional_6[0][0]            \n",
      "                                                                 attention_weights[16][0]         \n",
      "                                                                 bidirectional_6[0][0]            \n",
      "                                                                 attention_weights[17][0]         \n",
      "                                                                 bidirectional_6[0][0]            \n",
      "                                                                 attention_weights[18][0]         \n",
      "                                                                 bidirectional_6[0][0]            \n",
      "                                                                 attention_weights[19][0]         \n",
      "                                                                 bidirectional_6[0][0]            \n",
      "__________________________________________________________________________________________________\n",
      "c0 (InputLayer)                 (None, 128)          0                                            \n",
      "__________________________________________________________________________________________________\n",
      "lstm_7 (LSTM)                   [(None, 128), (None, 197120      dot_2[0][0]                      \n",
      "                                                                 s0[0][0]                         \n",
      "                                                                 c0[0][0]                         \n",
      "                                                                 dot_2[1][0]                      \n",
      "                                                                 lstm_7[0][0]                     \n",
      "                                                                 lstm_7[0][2]                     \n",
      "                                                                 dot_2[2][0]                      \n",
      "                                                                 lstm_7[1][0]                     \n",
      "                                                                 lstm_7[1][2]                     \n",
      "                                                                 dot_2[3][0]                      \n",
      "                                                                 lstm_7[2][0]                     \n",
      "                                                                 lstm_7[2][2]                     \n",
      "                                                                 dot_2[4][0]                      \n",
      "                                                                 lstm_7[3][0]                     \n",
      "                                                                 lstm_7[3][2]                     \n",
      "                                                                 dot_2[5][0]                      \n",
      "                                                                 lstm_7[4][0]                     \n",
      "                                                                 lstm_7[4][2]                     \n",
      "                                                                 dot_2[6][0]                      \n",
      "                                                                 lstm_7[5][0]                     \n",
      "                                                                 lstm_7[5][2]                     \n",
      "                                                                 dot_2[7][0]                      \n",
      "                                                                 lstm_7[6][0]                     \n",
      "                                                                 lstm_7[6][2]                     \n",
      "                                                                 dot_2[8][0]                      \n",
      "                                                                 lstm_7[7][0]                     \n",
      "                                                                 lstm_7[7][2]                     \n",
      "                                                                 dot_2[9][0]                      \n",
      "                                                                 lstm_7[8][0]                     \n",
      "                                                                 lstm_7[8][2]                     \n",
      "                                                                 dot_2[10][0]                     \n",
      "                                                                 lstm_7[9][0]                     \n",
      "                                                                 lstm_7[9][2]                     \n",
      "                                                                 dot_2[11][0]                     \n",
      "                                                                 lstm_7[10][0]                    \n",
      "                                                                 lstm_7[10][2]                    \n",
      "                                                                 dot_2[12][0]                     \n",
      "                                                                 lstm_7[11][0]                    \n",
      "                                                                 lstm_7[11][2]                    \n",
      "                                                                 dot_2[13][0]                     \n",
      "                                                                 lstm_7[12][0]                    \n",
      "                                                                 lstm_7[12][2]                    \n",
      "                                                                 dot_2[14][0]                     \n",
      "                                                                 lstm_7[13][0]                    \n",
      "                                                                 lstm_7[13][2]                    \n",
      "                                                                 dot_2[15][0]                     \n",
      "                                                                 lstm_7[14][0]                    \n",
      "                                                                 lstm_7[14][2]                    \n",
      "                                                                 dot_2[16][0]                     \n",
      "                                                                 lstm_7[15][0]                    \n",
      "                                                                 lstm_7[15][2]                    \n",
      "                                                                 dot_2[17][0]                     \n",
      "                                                                 lstm_7[16][0]                    \n",
      "                                                                 lstm_7[16][2]                    \n",
      "                                                                 dot_2[18][0]                     \n",
      "                                                                 lstm_7[17][0]                    \n",
      "                                                                 lstm_7[17][2]                    \n",
      "                                                                 dot_2[19][0]                     \n",
      "                                                                 lstm_7[18][0]                    \n",
      "                                                                 lstm_7[18][2]                    \n",
      "__________________________________________________________________________________________________\n",
      "dense_6 (Dense)                 (None, 20000)        2580000     lstm_7[0][0]                     \n",
      "                                                                 lstm_7[1][0]                     \n",
      "                                                                 lstm_7[2][0]                     \n",
      "                                                                 lstm_7[3][0]                     \n",
      "                                                                 lstm_7[4][0]                     \n",
      "                                                                 lstm_7[5][0]                     \n",
      "                                                                 lstm_7[6][0]                     \n",
      "                                                                 lstm_7[7][0]                     \n",
      "                                                                 lstm_7[8][0]                     \n",
      "                                                                 lstm_7[9][0]                     \n",
      "                                                                 lstm_7[10][0]                    \n",
      "                                                                 lstm_7[11][0]                    \n",
      "                                                                 lstm_7[12][0]                    \n",
      "                                                                 lstm_7[13][0]                    \n",
      "                                                                 lstm_7[14][0]                    \n",
      "                                                                 lstm_7[15][0]                    \n",
      "                                                                 lstm_7[16][0]                    \n",
      "                                                                 lstm_7[17][0]                    \n",
      "                                                                 lstm_7[18][0]                    \n",
      "                                                                 lstm_7[19][0]                    \n",
      "==================================================================================================\n",
      "Total params: 3,016,837\n",
      "Trainable params: 2,968,137\n",
      "Non-trainable params: 48,700\n",
      "__________________________________________________________________________________________________\n"
     ]
    }
   ],
   "source": [
    "model.summary()"
   ]
  },
  {
   "cell_type": "code",
   "execution_count": 142,
   "metadata": {},
   "outputs": [],
   "source": [
    "opt = Adam(lr = 0.005, beta_1 = 0.9,beta_2 = 0.999 , decay = 0.01)\n",
    "model.compile(optimizer = opt , loss = \"sparse_categorical_crossentropy\" ,metrics = ['accuracy'])"
   ]
  },
  {
   "cell_type": "code",
   "execution_count": 204,
   "metadata": {},
   "outputs": [],
   "source": [
    "s0 = np.zeros((500, 128))\n",
    "c0 = np.zeros((500, 128))"
   ]
  },
  {
   "cell_type": "code",
   "execution_count": 206,
   "metadata": {},
   "outputs": [
    {
     "name": "stdout",
     "output_type": "stream",
     "text": [
      "Epoch 1/10\n",
      "500/500 [==============================] - 3s 7ms/step - loss: 36.1461 - dense_6_loss: 0.2844 - dense_6_accuracy: 0.0520 - dense_6_accuracy_1: 0.1740 - dense_6_accuracy_2: 0.4060 - dense_6_accuracy_3: 0.5660 - dense_6_accuracy_4: 0.6880 - dense_6_accuracy_5: 0.7780 - dense_6_accuracy_6: 0.8440 - dense_6_accuracy_7: 0.8920 - dense_6_accuracy_8: 0.9280 - dense_6_accuracy_9: 0.9560 - dense_6_accuracy_10: 0.9660 - dense_6_accuracy_11: 0.9800 - dense_6_accuracy_12: 0.9880 - dense_6_accuracy_13: 0.9900 - dense_6_accuracy_14: 0.9920 - dense_6_accuracy_15: 0.9960 - dense_6_accuracy_16: 1.0000 - dense_6_accuracy_17: 1.0000 - dense_6_accuracy_18: 1.0000 - dense_6_accuracy_19: 1.0000\n",
      "Epoch 2/10\n",
      "500/500 [==============================] - 3s 7ms/step - loss: 35.1077 - dense_6_loss: 0.0323 - dense_6_accuracy: 0.0520 - dense_6_accuracy_1: 0.1740 - dense_6_accuracy_2: 0.4060 - dense_6_accuracy_3: 0.5660 - dense_6_accuracy_4: 0.6880 - dense_6_accuracy_5: 0.7780 - dense_6_accuracy_6: 0.8440 - dense_6_accuracy_7: 0.8920 - dense_6_accuracy_8: 0.9280 - dense_6_accuracy_9: 0.9560 - dense_6_accuracy_10: 0.9660 - dense_6_accuracy_11: 0.9800 - dense_6_accuracy_12: 0.9880 - dense_6_accuracy_13: 0.9900 - dense_6_accuracy_14: 0.9920 - dense_6_accuracy_15: 0.9960 - dense_6_accuracy_16: 1.0000 - dense_6_accuracy_17: 1.0000 - dense_6_accuracy_18: 1.0000 - dense_6_accuracy_19: 1.0000\n",
      "Epoch 3/10\n",
      "500/500 [==============================] - 4s 7ms/step - loss: 31.6277 - dense_6_loss: 0.1984 - dense_6_accuracy: 0.0520 - dense_6_accuracy_1: 0.1740 - dense_6_accuracy_2: 0.4060 - dense_6_accuracy_3: 0.5660 - dense_6_accuracy_4: 0.6880 - dense_6_accuracy_5: 0.7780 - dense_6_accuracy_6: 0.8440 - dense_6_accuracy_7: 0.8920 - dense_6_accuracy_8: 0.9280 - dense_6_accuracy_9: 0.9560 - dense_6_accuracy_10: 0.9660 - dense_6_accuracy_11: 0.9800 - dense_6_accuracy_12: 0.9880 - dense_6_accuracy_13: 0.9900 - dense_6_accuracy_14: 0.9920 - dense_6_accuracy_15: 0.9960 - dense_6_accuracy_16: 1.0000 - dense_6_accuracy_17: 1.0000 - dense_6_accuracy_18: 1.0000 - dense_6_accuracy_19: 1.0000\n",
      "Epoch 4/10\n",
      "500/500 [==============================] - 3s 7ms/step - loss: 30.8711 - dense_6_loss: 0.2026 - dense_6_accuracy: 0.0520 - dense_6_accuracy_1: 0.1740 - dense_6_accuracy_2: 0.4060 - dense_6_accuracy_3: 0.5660 - dense_6_accuracy_4: 0.6880 - dense_6_accuracy_5: 0.7780 - dense_6_accuracy_6: 0.8440 - dense_6_accuracy_7: 0.8920 - dense_6_accuracy_8: 0.9280 - dense_6_accuracy_9: 0.9560 - dense_6_accuracy_10: 0.9660 - dense_6_accuracy_11: 0.9800 - dense_6_accuracy_12: 0.9880 - dense_6_accuracy_13: 0.9900 - dense_6_accuracy_14: 0.9920 - dense_6_accuracy_15: 0.9960 - dense_6_accuracy_16: 1.0000 - dense_6_accuracy_17: 1.0000 - dense_6_accuracy_18: 1.0000 - dense_6_accuracy_19: 1.0000\n",
      "Epoch 5/10\n",
      "500/500 [==============================] - 3s 7ms/step - loss: 30.6510 - dense_6_loss: 0.1640 - dense_6_accuracy: 0.0520 - dense_6_accuracy_1: 0.1740 - dense_6_accuracy_2: 0.4060 - dense_6_accuracy_3: 0.5660 - dense_6_accuracy_4: 0.6880 - dense_6_accuracy_5: 0.7780 - dense_6_accuracy_6: 0.8440 - dense_6_accuracy_7: 0.8920 - dense_6_accuracy_8: 0.9280 - dense_6_accuracy_9: 0.9560 - dense_6_accuracy_10: 0.9660 - dense_6_accuracy_11: 0.9800 - dense_6_accuracy_12: 0.9880 - dense_6_accuracy_13: 0.9900 - dense_6_accuracy_14: 0.9920 - dense_6_accuracy_15: 0.9960 - dense_6_accuracy_16: 1.0000 - dense_6_accuracy_17: 1.0000 - dense_6_accuracy_18: 1.0000 - dense_6_accuracy_19: 1.0000\n",
      "Epoch 6/10\n",
      "500/500 [==============================] - 4s 7ms/step - loss: 30.5213 - dense_6_loss: 0.1842 - dense_6_accuracy: 0.0520 - dense_6_accuracy_1: 0.1740 - dense_6_accuracy_2: 0.4060 - dense_6_accuracy_3: 0.5660 - dense_6_accuracy_4: 0.6880 - dense_6_accuracy_5: 0.7780 - dense_6_accuracy_6: 0.8440 - dense_6_accuracy_7: 0.8920 - dense_6_accuracy_8: 0.9280 - dense_6_accuracy_9: 0.9560 - dense_6_accuracy_10: 0.9660 - dense_6_accuracy_11: 0.9800 - dense_6_accuracy_12: 0.9880 - dense_6_accuracy_13: 0.9900 - dense_6_accuracy_14: 0.9920 - dense_6_accuracy_15: 0.9960 - dense_6_accuracy_16: 1.0000 - dense_6_accuracy_17: 1.0000 - dense_6_accuracy_18: 1.0000 - dense_6_accuracy_19: 1.0000\n",
      "Epoch 7/10\n",
      "500/500 [==============================] - 4s 7ms/step - loss: 30.4948 - dense_6_loss: 0.1787 - dense_6_accuracy: 0.0520 - dense_6_accuracy_1: 0.1740 - dense_6_accuracy_2: 0.4060 - dense_6_accuracy_3: 0.5660 - dense_6_accuracy_4: 0.6880 - dense_6_accuracy_5: 0.7780 - dense_6_accuracy_6: 0.8440 - dense_6_accuracy_7: 0.8920 - dense_6_accuracy_8: 0.9280 - dense_6_accuracy_9: 0.9560 - dense_6_accuracy_10: 0.9660 - dense_6_accuracy_11: 0.9800 - dense_6_accuracy_12: 0.9880 - dense_6_accuracy_13: 0.9900 - dense_6_accuracy_14: 0.9920 - dense_6_accuracy_15: 0.9960 - dense_6_accuracy_16: 1.0000 - dense_6_accuracy_17: 1.0000 - dense_6_accuracy_18: 1.0000 - dense_6_accuracy_19: 1.0000\n",
      "Epoch 8/10\n",
      "500/500 [==============================] - 4s 7ms/step - loss: 30.4883 - dense_6_loss: 0.1775 - dense_6_accuracy: 0.0520 - dense_6_accuracy_1: 0.1740 - dense_6_accuracy_2: 0.4060 - dense_6_accuracy_3: 0.5660 - dense_6_accuracy_4: 0.6880 - dense_6_accuracy_5: 0.7780 - dense_6_accuracy_6: 0.8440 - dense_6_accuracy_7: 0.8920 - dense_6_accuracy_8: 0.9280 - dense_6_accuracy_9: 0.9560 - dense_6_accuracy_10: 0.9660 - dense_6_accuracy_11: 0.9800 - dense_6_accuracy_12: 0.9880 - dense_6_accuracy_13: 0.9900 - dense_6_accuracy_14: 0.9920 - dense_6_accuracy_15: 0.9960 - dense_6_accuracy_16: 1.0000 - dense_6_accuracy_17: 1.0000 - dense_6_accuracy_18: 1.0000 - dense_6_accuracy_19: 1.0000\n",
      "Epoch 9/10\n",
      "500/500 [==============================] - 4s 7ms/step - loss: 30.4338 - dense_6_loss: 0.1777 - dense_6_accuracy: 0.0520 - dense_6_accuracy_1: 0.1740 - dense_6_accuracy_2: 0.4060 - dense_6_accuracy_3: 0.5660 - dense_6_accuracy_4: 0.6880 - dense_6_accuracy_5: 0.7780 - dense_6_accuracy_6: 0.8440 - dense_6_accuracy_7: 0.8920 - dense_6_accuracy_8: 0.9280 - dense_6_accuracy_9: 0.9560 - dense_6_accuracy_10: 0.9660 - dense_6_accuracy_11: 0.9800 - dense_6_accuracy_12: 0.9880 - dense_6_accuracy_13: 0.9900 - dense_6_accuracy_14: 0.9920 - dense_6_accuracy_15: 0.9960 - dense_6_accuracy_16: 1.0000 - dense_6_accuracy_17: 1.0000 - dense_6_accuracy_18: 1.0000 - dense_6_accuracy_19: 1.0000\n",
      "Epoch 10/10\n",
      "500/500 [==============================] - 4s 7ms/step - loss: 30.4594 - dense_6_loss: 0.1805 - dense_6_accuracy: 0.0520 - dense_6_accuracy_1: 0.1740 - dense_6_accuracy_2: 0.4060 - dense_6_accuracy_3: 0.5660 - dense_6_accuracy_4: 0.6880 - dense_6_accuracy_5: 0.7780 - dense_6_accuracy_6: 0.8440 - dense_6_accuracy_7: 0.8920 - dense_6_accuracy_8: 0.9280 - dense_6_accuracy_9: 0.9560 - dense_6_accuracy_10: 0.9660 - dense_6_accuracy_11: 0.9800 - dense_6_accuracy_12: 0.9880 - dense_6_accuracy_13: 0.9900 - dense_6_accuracy_14: 0.9920 - dense_6_accuracy_15: 0.9960 - dense_6_accuracy_16: 1.0000 - dense_6_accuracy_17: 1.0000 - dense_6_accuracy_18: 1.0000 - dense_6_accuracy_19: 1.0000\n"
     ]
    },
    {
     "data": {
      "text/plain": [
       "<keras.callbacks.callbacks.History at 0x7f114f97eb38>"
      ]
     },
     "execution_count": 206,
     "metadata": {},
     "output_type": "execute_result"
    }
   ],
   "source": [
    "model.fit([context,s0,c0],response,epochs=10,batch_size=50)"
   ]
  },
  {
   "cell_type": "code",
   "execution_count": 207,
   "metadata": {},
   "outputs": [],
   "source": [
    "import math\n",
    "def beam_search_decoder(predictions, top_k = 3):\n",
    "\n",
    "    output_sequences = [([], 0)]\n",
    "    \n",
    "    for token_probs in predictions:\n",
    "        new_sequences = []\n",
    "        token_probs = token_probs.reshape(20000 ,)\n",
    "        for old_seq, old_score in output_sequences:\n",
    "            for char_index in range(len(token_probs)):\n",
    "                new_seq = old_seq + [char_index]\n",
    "                new_score = old_score + math.log(token_probs[char_index])\n",
    "                new_sequences.append((new_seq, new_score))\n",
    "                \n",
    "        output_sequences = sorted(new_sequences, key = lambda val: val[1], reverse = True)\n",
    "        output_sequences = output_sequences[:top_k]\n",
    "        \n",
    "    return output_sequences"
   ]
  },
  {
   "cell_type": "code",
   "execution_count": 244,
   "metadata": {},
   "outputs": [],
   "source": [
    "s = [(\"hello what is your name\")]"
   ]
  },
  {
   "cell_type": "code",
   "execution_count": 245,
   "metadata": {},
   "outputs": [],
   "source": [
    "seq = tokenizer.texts_to_sequences(s)\n",
    "pad = pad_sequences(seq,maxlen=max_len, truncating=\"post\",padding = 'post')"
   ]
  },
  {
   "cell_type": "code",
   "execution_count": 246,
   "metadata": {},
   "outputs": [
    {
     "data": {
      "text/plain": [
       "array([[177,  11,  14,  18, 541,   0,   0,   0,   0,   0,   0,   0,   0,\n",
       "          0,   0,   0,   0,   0,   0,   0]], dtype=int32)"
      ]
     },
     "execution_count": 246,
     "metadata": {},
     "output_type": "execute_result"
    }
   ],
   "source": [
    "pad"
   ]
  },
  {
   "cell_type": "code",
   "execution_count": 247,
   "metadata": {},
   "outputs": [],
   "source": [
    "pred = model.predict([pad , np.zeros((1,128)) , np.zeros((1,128))])\n"
   ]
  },
  {
   "cell_type": "code",
   "execution_count": 248,
   "metadata": {},
   "outputs": [
    {
     "data": {
      "text/plain": [
       "[array([[4.6369505e-01, 2.3353233e-07, 1.2653843e-02, ..., 2.4990908e-07,\n",
       "         2.3885025e-07, 2.2141731e-07]], dtype=float32),\n",
       " array([[7.983412e-01, 8.883726e-09, 8.363408e-03, ..., 9.683281e-09,\n",
       "         9.141195e-09, 8.302225e-09]], dtype=float32),\n",
       " array([[8.3223248e-01, 5.1626796e-09, 7.5285234e-03, ..., 5.6432397e-09,\n",
       "         5.3172422e-09, 4.8140927e-09]], dtype=float32),\n",
       " array([[8.3650696e-01, 4.7878204e-09, 7.4157636e-03, ..., 5.2355142e-09,\n",
       "         4.9317905e-09, 4.4631903e-09]], dtype=float32),\n",
       " array([[8.3707994e-01, 4.7390496e-09, 7.4005094e-03, ..., 5.1824700e-09,\n",
       "         4.8816369e-09, 4.4175414e-09]], dtype=float32),\n",
       " array([[8.3715737e-01, 4.7324873e-09, 7.3984489e-03, ..., 5.1753131e-09,\n",
       "         4.8748867e-09, 4.4113904e-09]], dtype=float32),\n",
       " array([[8.3716756e-01, 4.7315885e-09, 7.3981546e-03, ..., 5.1743494e-09,\n",
       "         4.8739697e-09, 4.4105608e-09]], dtype=float32),\n",
       " array([[8.3716899e-01, 4.7314699e-09, 7.3981183e-03, ..., 5.1742206e-09,\n",
       "         4.8738387e-09, 4.4104502e-09]], dtype=float32),\n",
       " array([[8.3716905e-01, 4.7314614e-09, 7.3981145e-03, ..., 5.1742011e-09,\n",
       "         4.8738298e-09, 4.4104427e-09]], dtype=float32),\n",
       " array([[8.3716911e-01, 4.7314619e-09, 7.3981085e-03, ..., 5.1742015e-09,\n",
       "         4.8738205e-09, 4.4104342e-09]], dtype=float32),\n",
       " array([[8.3716905e-01, 4.7314614e-09, 7.3981145e-03, ..., 5.1742011e-09,\n",
       "         4.8738298e-09, 4.4104427e-09]], dtype=float32),\n",
       " array([[8.3716905e-01, 4.7314614e-09, 7.3981145e-03, ..., 5.1742011e-09,\n",
       "         4.8738298e-09, 4.4104427e-09]], dtype=float32),\n",
       " array([[8.3716905e-01, 4.7314614e-09, 7.3981145e-03, ..., 5.1742011e-09,\n",
       "         4.8738298e-09, 4.4104427e-09]], dtype=float32),\n",
       " array([[8.3716905e-01, 4.7314614e-09, 7.3981145e-03, ..., 5.1742011e-09,\n",
       "         4.8738298e-09, 4.4104427e-09]], dtype=float32),\n",
       " array([[8.3716905e-01, 4.7314614e-09, 7.3981145e-03, ..., 5.1742011e-09,\n",
       "         4.8738298e-09, 4.4104427e-09]], dtype=float32),\n",
       " array([[8.3716905e-01, 4.7314614e-09, 7.3981145e-03, ..., 5.1742011e-09,\n",
       "         4.8738298e-09, 4.4104427e-09]], dtype=float32),\n",
       " array([[8.3716905e-01, 4.7314614e-09, 7.3981145e-03, ..., 5.1742011e-09,\n",
       "         4.8738298e-09, 4.4104427e-09]], dtype=float32),\n",
       " array([[8.3716905e-01, 4.7314614e-09, 7.3981145e-03, ..., 5.1742011e-09,\n",
       "         4.8738298e-09, 4.4104427e-09]], dtype=float32),\n",
       " array([[8.3716905e-01, 4.7314614e-09, 7.3981145e-03, ..., 5.1742011e-09,\n",
       "         4.8738298e-09, 4.4104427e-09]], dtype=float32),\n",
       " array([[8.3716905e-01, 4.7314614e-09, 7.3981145e-03, ..., 5.1742011e-09,\n",
       "         4.8738298e-09, 4.4104427e-09]], dtype=float32)]"
      ]
     },
     "execution_count": 248,
     "metadata": {},
     "output_type": "execute_result"
    }
   ],
   "source": [
    "pred"
   ]
  },
  {
   "cell_type": "code",
   "execution_count": 249,
   "metadata": {},
   "outputs": [],
   "source": [
    "\n",
    "ans = beam_search_decoder(pred)"
   ]
  },
  {
   "cell_type": "code",
   "execution_count": 250,
   "metadata": {},
   "outputs": [
    {
     "data": {
      "text/plain": [
       "[([0, 0, 0, 0, 0, 0, 0, 0, 0, 0, 0, 0, 0, 0, 0, 0, 0, 0, 0, 0],\n",
       "  -4.199701524377367),\n",
       " ([2, 0, 0, 0, 0, 0, 0, 0, 0, 0, 0, 0, 0, 0, 0, 0, 0, 0, 0, 0],\n",
       "  -7.800967709777046),\n",
       " ([3, 0, 0, 0, 0, 0, 0, 0, 0, 0, 0, 0, 0, 0, 0, 0, 0, 0, 0, 0],\n",
       "  -8.138833443227645)]"
      ]
     },
     "execution_count": 250,
     "metadata": {},
     "output_type": "execute_result"
    }
   ],
   "source": [
    "ans"
   ]
  },
  {
   "cell_type": "code",
   "execution_count": 251,
   "metadata": {},
   "outputs": [
    {
     "data": {
      "text/plain": [
       "'you'"
      ]
     },
     "execution_count": 251,
     "metadata": {},
     "output_type": "execute_result"
    }
   ],
   "source": [
    "index_word[2]\n",
    "# index_word[3]"
   ]
  },
  {
   "cell_type": "code",
   "execution_count": null,
   "metadata": {},
   "outputs": [],
   "source": []
  }
 ],
 "metadata": {
  "kernelspec": {
   "display_name": "Python 3",
   "language": "python",
   "name": "python3"
  },
  "language_info": {
   "codemirror_mode": {
    "name": "ipython",
    "version": 3
   },
   "file_extension": ".py",
   "mimetype": "text/x-python",
   "name": "python",
   "nbconvert_exporter": "python",
   "pygments_lexer": "ipython3",
   "version": "3.6.9"
  }
 },
 "nbformat": 4,
 "nbformat_minor": 2
}
